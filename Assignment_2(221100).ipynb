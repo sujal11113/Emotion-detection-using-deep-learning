{
  "nbformat": 4,
  "nbformat_minor": 0,
  "metadata": {
    "colab": {
      "provenance": [],
      "include_colab_link": true
    },
    "kernelspec": {
      "name": "python3",
      "display_name": "Python 3"
    },
    "language_info": {
      "name": "python"
    }
  },
  "cells": [
    {
      "cell_type": "markdown",
      "metadata": {
        "id": "view-in-github",
        "colab_type": "text"
      },
      "source": [
        "<a href=\"https://colab.research.google.com/github/sujal11113/Emotion-detection-using-deep-learning/blob/main/Assignment_2(221100).ipynb\" target=\"_parent\"><img src=\"https://colab.research.google.com/assets/colab-badge.svg\" alt=\"Open In Colab\"/></a>"
      ]
    },
    {
      "cell_type": "markdown",
      "source": [
        "This assignment is based on Support Vector Machines.\n",
        "\n",
        "**Instructions for this assignment:**\n",
        "\n",
        "1.   This assignment contains certain questions that you have to answer. The answers may be descriptive. Double-click on the text box and write your solution, which should precisely answer the question. **Remember to make your solution bold before submitting.**\n",
        "2.   Certain sections of code are missing are have being replaced by 'pass'. You need to replace 'pass' with your block of code by following the instructions provided.  \n",
        "\n",
        "\n"
      ],
      "metadata": {
        "id": "sqGpps43M-Oa"
      }
    },
    {
      "cell_type": "markdown",
      "source": [
        "#Linear SVM"
      ],
      "metadata": {
        "id": "0I5S6wA_OjSj"
      }
    },
    {
      "cell_type": "markdown",
      "source": [
        "Q1. What type of dataset is expected to be dealt with SVMs, in terms of size and complexity?\n",
        "**moderate to small size with high complexity**\n",
        "\n",
        "\n",
        "\n"
      ],
      "metadata": {
        "id": "xMXYEV7yZ_EG"
      }
    },
    {
      "cell_type": "code",
      "execution_count": null,
      "metadata": {
        "id": "084lXnMMJQ8-"
      },
      "outputs": [],
      "source": [
        "#Importing Libraries\n",
        "\n",
        "import numpy as np\n",
        "import matplotlib.pyplot as plt\n",
        "from sklearn.svm import SVC # A module of scikit-learn library used for implementing SVM. SVC stands for Support Vector Classifier"
      ]
    },
    {
      "cell_type": "code",
      "source": [
        "#Preparation of dataset\n",
        "\n",
        "x = np.array([[1,2],[4,6],[8,9], [3,4], [2,6], [4,9]])\n",
        "y = np.array([0, 1, 1, 0, 0, 1])\n",
        "for i in range(y.shape[0]):\n",
        "  if (y[i]==0):\n",
        "      plt.scatter(x[i][0], x[i][1],color='red', marker='x')\n",
        "  else:\n",
        "      plt.scatter(x[i][0], x[i][1],color='green', marker='o')"
      ],
      "metadata": {
        "id": "JuLdsSfRMWNg",
        "colab": {
          "base_uri": "https://localhost:8080/",
          "height": 430
        },
        "outputId": "9a2e57a7-a229-4bf7-a722-6f6e4fc701f4"
      },
      "execution_count": null,
      "outputs": [
        {
          "output_type": "display_data",
          "data": {
            "text/plain": [
              "<Figure size 640x480 with 1 Axes>"
            ],
            "image/png": "[encoded data removed]"
          },
          "metadata": {}
        }
      ]
    },
    {
      "cell_type": "markdown",
      "source": [
        "**Answer the following questions** \\\\\n",
        "Q1. How many classes is the above dataset expected to be classified into?\n",
        "**2**\n",
        "Q2. How many features does the input data have?\n",
        "**2**\n",
        "Q3. What would be the dimension of hyperplane which will be used to classify this dataset?  **line**"
      ],
      "metadata": {
        "id": "ibaxtdjuMZxU"
      }
    },
    {
      "cell_type": "markdown",
      "source": [
        "**Task 1**: Read about kernel argument of SVC and replace kernal_used by the kernel required for linear SVM."
      ],
      "metadata": {
        "id": "4CP_8mgsT5WS"
      }
    },
    {
      "cell_type": "code",
      "source": [
        "kernel_used = 'linear'\n",
        "Classifier = SVC(gamma = 'auto', kernel = kernel_used)\n",
        "Classifier.fit(x, y)"
      ],
      "metadata": {
        "id": "Aryh-j-nMWxm"
      },
      "execution_count": null,
      "outputs": []
    },
    {
      "cell_type": "markdown",
      "source": [
        "**Task 1:** Find the equation of boundary by using the parameters"
      ],
      "metadata": {
        "id": "2UxJ_6MTWNi-"
      }
    },
    {
      "cell_type": "markdown",
      "source": [
        "#Non- Linear SVM"
      ],
      "metadata": {
        "id": "1ZIrqz3TUXs5"
      }
    },
    {
      "cell_type": "code",
      "source": [
        "#####\n",
        "weight_matrix = Classifier.coef_[0]\n",
        "slope = -weight_matrix[0]/weight_matrix[1]\n",
        "bias = - Classifier.intercept_[0]/weight_matrix[1]\n",
        "val = np.linspace(0, 14)\n",
        "boundary = slope * val + bias\n",
        "#####\n",
        "\n",
        "plt.plot(val, boundary, 'k', label = f\"Decision Boundary ( y = (slope)*x + (bias))\") #write the equation for the decision boundary using the variables used above\n",
        "\n",
        "for i in range(y.shape[0]):\n",
        "  if (y[i]==0):\n",
        "      plt.scatter(x[i][0], x[i][1],color='red', marker='x')\n",
        "  else:\n",
        "      plt.scatter(x[i][0], x[i][1],color='green', marker='o')\n",
        "\n",
        "plt.legend()\n",
        "plt.show()"
      ],
      "metadata": {
        "id": "66Jzs5BJMeqX"
      },
      "execution_count": null,
      "outputs": []
    },
    {
      "cell_type": "code",
      "source": [
        "#Preparation of dataset\n",
        "x1 = np.linspace(0, 100, 12, dtype=int)\n",
        "x1 = np.append(x1, np.linspace(30, 50, 8, dtype=int))\n",
        "x1 = np.sort(x1)\n",
        "x1 = np.delete(x1, np.where(x1 == 30))\n",
        "x1 = np.delete(x1, np.where(x1 == 50))\n",
        "n = x1.size\n",
        "x2 = 2*x1+3\n",
        "coordinates = np.column_stack((x1, x2))\n",
        "label = np.zeros(n, dtype=int)\n",
        "plt.scatter(x1, x2, color=\"blue\")\n",
        "for i in range(n):\n",
        "  if(30<x1[i]<50):\n",
        "    label[i]=1\n",
        "    plt.scatter(x1[i],x2[i],color=\"green\")\n",
        "  else:\n",
        "    label[i]=0\n",
        "    plt.scatter(x1[i],x2[i],color=\"red\")"
      ],
      "metadata": {
        "id": "pt5ZDqEZPwaD",
        "colab": {
          "base_uri": "https://localhost:8080/",
          "height": 430
        },
        "outputId": "ad023c42-ab42-4711-f719-248a0164f686"
      },
      "execution_count": null,
      "outputs": [
        {
          "output_type": "display_data",
          "data": {
            "text/plain": [
              "<Figure size 640x480 with 1 Axes>"
            ],
            "image/png": "[encoded data removed]"
          },
          "metadata": {}
        }
      ]
    },
    {
      "cell_type": "markdown",
      "source": [
        "**Answer the following questions** \\\\\n",
        "Q: Is the above dataset linearly separable?\n",
        "**no**\n",
        "Q. How many classes are there in the above dataset?\n",
        "**2**\n",
        "Q. How many features are used in the above dataset?\n",
        "**1**\n",
        "Q. What will be dimension of hyperplane used for this dataset?  \n",
        "**point**"
      ],
      "metadata": {
        "id": "6xfDKUFsTZmM"
      }
    },
    {
      "cell_type": "code",
      "source": [],
      "metadata": {
        "id": "bEXT7dVjekjF"
      },
      "execution_count": null,
      "outputs": []
    },
    {
      "cell_type": "markdown",
      "source": [
        "#Splitting the Dataset\n",
        "**Task**: Split the given dataset into training and testing data. The code snippet to illustrate the data has been given."
      ],
      "metadata": {
        "id": "QH9QWWi_RA0J"
      }
    },
    {
      "cell_type": "code",
      "source": [
        "from sklearn.model_selection import train_test_split\n",
        "\n",
        "X=\n",
        "Y=\n",
        "X_train, X_test, Y_train, Y_test =train_test_split(X,Y)\n",
        "\n",
        "for i i Split the given dataset into training and testing data. The code snippet to illustrate the data has been given.n range (X_train.T[0].size):\n",
        "  if(Y_train[i]==1):\n",
        "    plt.scatter(X_train[i][0], X_train[i][1], color=\"green\")\n",
        "  else:\n",
        "    plt.scatter(X_train[i][0], X_train[i][1], color=\"red\")\n",
        "plt.show()\n",
        "\n",
        "for i in range (X_test.T[0].size):\n",
        "  if(Y_test[i]==1):\n",
        "    plt.scatter(X_test[i][0], X_test[i][1], color=\"green\")\n",
        "  else:\n",
        "    plt.scatter(X_test[i][0], X_test[i][1], color=\"red\")\n",
        "plt.show()"
      ],
      "metadata": {
        "id": "bBr0AVWC4H_t"
      },
      "execution_count": null,
      "outputs": []
    },
    {
      "cell_type": "markdown",
      "source": [
        "#Non Linear Classifier\n",
        "**Task 1**: Generate a classifier for the above dataset using suitable kernel function. Also, provide an explanation for your choice of kernel. \\\\\n",
        "**Task 2**: Explain and illustrate, using plots, how the kernel used, enables the data to be classified using a SVC."
      ],
      "metadata": {
        "id": "Tk-kkt4tRSzO"
      }
    },
    {
      "cell_type": "code",
      "source": [
        "Classifier = SVC(kernel='rbf')\n",
        "Classifier.ft(X_train , Y_train)"
      ],
      "metadata": {
        "id": "YmQb8dw2QVHR"
      },
      "execution_count": null,
      "outputs": []
    }
  ]
}